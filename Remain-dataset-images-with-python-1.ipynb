{
 "cells": [
  {
   "cell_type": "code",
   "execution_count": null,
   "metadata": {},
   "outputs": [],
   "source": [
    "import os\n",
    "import shutil\n",
    "\n",
    "# Paths to the folders\n",
    "folder_a_path = 'path/to/folder/A'\n",
    "folder_b_path = 'path/to/folder/B'\n",
    "\n",
    "# Check if both folders exist\n",
    "if not os.path.exists(folder_a_path) or not os.path.exists(folder_b_path):\n",
    "    print(\"One or both folders do not exist.\")\n",
    "    exit(1)\n",
    "\n",
    "# Get the list of files in both folders\n",
    "folder_a_files = os.listdir(folder_a_path)\n",
    "folder_b_files = os.listdir(folder_b_path)\n",
    "\n",
    "# Check if both folders have the same number of images\n",
    "if len(folder_a_files) != len(folder_b_files):\n",
    "    print(\"The folders do not have the same number of images.\")\n",
    "    exit(1)\n",
    "\n",
    "# Rename images in folder A to match the names in folder B\n",
    "for a_file, b_file in zip(folder_a_files, folder_b_files):\n",
    "    a_file_path = os.path.join(folder_a_path, a_file)\n",
    "    b_file_path = os.path.join(folder_b_path, b_file)\n",
    "    \n",
    "    # Check if the files exist\n",
    "    if os.path.exists(a_file_path) and os.path.exists(b_file_path):\n",
    "        # Rename the file in folder A to match the name of the file in folder B\n",
    "        shutil.move(a_file_path, b_file_path)\n",
    "    else:\n",
    "        print(f\"File not found in one of the folders: {a_file} or {b_file}\")\n",
    "\n",
    "print(\"Image renaming completed.\")\n"
   ]
  }
 ],
 "metadata": {
  "kernelspec": {
   "display_name": "Python 3",
   "language": "python",
   "name": "python3"
  },
  "language_info": {
   "name": "python",
   "version": "3.11.3"
  }
 },
 "nbformat": 4,
 "nbformat_minor": 2
}
